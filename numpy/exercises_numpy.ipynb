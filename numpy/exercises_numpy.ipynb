{
 "cells": [
  {
   "cell_type": "markdown",
   "id": "1b564ef3-5079-4c9e-ac56-22746bc61c87",
   "metadata": {},
   "source": [
    "### NumPy Exercises for Data Analysis"
   ]
  },
  {
   "cell_type": "code",
   "execution_count": 1,
   "id": "7a375bdf-f252-4e1c-a59a-7d4b2e2da722",
   "metadata": {},
   "outputs": [],
   "source": [
    "import numpy as np"
   ]
  },
  {
   "cell_type": "markdown",
   "id": "9ede4e66-c11a-4ffc-9aa9-e51c193a650e",
   "metadata": {},
   "source": [
    "#### 1. Create a 1D array of numbers from 0 to 9"
   ]
  },
  {
   "cell_type": "code",
   "execution_count": 10,
   "id": "09d44f18-f4d3-48af-baea-8f484a642ea9",
   "metadata": {},
   "outputs": [],
   "source": [
    "dataset = np.arange(0,10)"
   ]
  },
  {
   "cell_type": "code",
   "execution_count": 11,
   "id": "bbdcbdb7-54d7-4a72-a8bd-83e78ba97374",
   "metadata": {},
   "outputs": [
    {
     "name": "stdout",
     "output_type": "stream",
     "text": [
      "[0 1 2 3 4 5 6 7 8 9]\n"
     ]
    }
   ],
   "source": [
    "print(dataset)"
   ]
  },
  {
   "cell_type": "markdown",
   "id": "4831773d-194d-47f3-bc22-398a972f278b",
   "metadata": {},
   "source": [
    "#### 2. Create a 3×3 numpy array of all True’s"
   ]
  },
  {
   "cell_type": "code",
   "execution_count": 21,
   "id": "a45ed6a1-07d6-4bff-be61-e525383220ca",
   "metadata": {},
   "outputs": [],
   "source": [
    "dataset_1 = np.full((5, 5), True, dtype=bool)"
   ]
  },
  {
   "cell_type": "code",
   "execution_count": 22,
   "id": "eac0565c-44e0-4af8-a1cd-504eeec54019",
   "metadata": {},
   "outputs": [
    {
     "name": "stdout",
     "output_type": "stream",
     "text": [
      "[[ True  True  True  True  True]\n",
      " [ True  True  True  True  True]\n",
      " [ True  True  True  True  True]\n",
      " [ True  True  True  True  True]\n",
      " [ True  True  True  True  True]]\n"
     ]
    }
   ],
   "source": [
    "print(dataset_1)"
   ]
  },
  {
   "cell_type": "markdown",
   "id": "8a7fcada-7265-49eb-92cc-0cc5744674f2",
   "metadata": {},
   "source": [
    "#### 3. Extract all odd numbers from arr"
   ]
  },
  {
   "cell_type": "code",
   "execution_count": 41,
   "id": "567fa4e8-0e4c-4e16-8b3f-bb50a676b81a",
   "metadata": {},
   "outputs": [
    {
     "data": {
      "text/plain": [
       "array([1, 3, 5, 7, 9])"
      ]
     },
     "execution_count": 41,
     "metadata": {},
     "output_type": "execute_result"
    }
   ],
   "source": [
    "dataset_2 = np.arange(0,10)\n",
    "dataset_2[dataset_2 % 2 == 1]"
   ]
  },
  {
   "cell_type": "markdown",
   "id": "df56354d-cc68-4475-b1ce-adaa8c9cc8b4",
   "metadata": {},
   "source": [
    "#### 4. Replace all odd numbers in arr with -1"
   ]
  },
  {
   "cell_type": "code",
   "execution_count": 43,
   "id": "99849ad5-111a-4b69-b34f-765009c81d0d",
   "metadata": {},
   "outputs": [
    {
     "name": "stdout",
     "output_type": "stream",
     "text": [
      "[ 0 -1  2 -1  4 -1  6 -1  8 -1]\n"
     ]
    }
   ],
   "source": [
    "dataset_2[dataset_2 % 2 == 1] =-1\n",
    "print(dataset_2)"
   ]
  },
  {
   "cell_type": "markdown",
   "id": "a2cf0dee-5510-48e5-8c0d-93eec8d1d5b3",
   "metadata": {},
   "source": [
    "#### 5. Replace all odd numbers in arr with -1 without changing "
   ]
  },
  {
   "cell_type": "code",
   "execution_count": 99,
   "id": "ba44bd1a-d4b9-4abf-bb11-dada0bf9e08b",
   "metadata": {},
   "outputs": [],
   "source": [
    "dataset_3 = np.arange(10)"
   ]
  },
  {
   "cell_type": "code",
   "execution_count": 100,
   "id": "1949b070-8a1d-45a6-b189-49354b0fac7b",
   "metadata": {},
   "outputs": [],
   "source": [
    "dataset_4 = np.where(dataset_3 % 2 == 1, -1, dataset_3)"
   ]
  },
  {
   "cell_type": "code",
   "execution_count": 101,
   "id": "33723be2-fde0-46b8-b088-7cc1ee258010",
   "metadata": {},
   "outputs": [
    {
     "name": "stdout",
     "output_type": "stream",
     "text": [
      "input data: [0 1 2 3 4 5 6 7 8 9] \n",
      "new data: [ 0 -1  2 -1  4 -1  6 -1  8 -1]\n"
     ]
    }
   ],
   "source": [
    "print(f\"input data: {dataset_3} \\nnew data: {dataset_4}\")"
   ]
  },
  {
   "cell_type": "markdown",
   "id": "62d1da2b-0824-4754-9a31-907eb99c7075",
   "metadata": {},
   "source": [
    "#### 6. Convert a 1D array to a 2D array with 2 rows"
   ]
  },
  {
   "cell_type": "code",
   "execution_count": 106,
   "id": "5aeafcbc-d1e9-4c6e-8a9f-c020fe9bb2b1",
   "metadata": {},
   "outputs": [],
   "source": [
    "dataset_5 = np.arange(10)\n"
   ]
  },
  {
   "cell_type": "code",
   "execution_count": 112,
   "id": "5169c629-fb8c-4762-bac9-869d473761b6",
   "metadata": {},
   "outputs": [
    {
     "data": {
      "text/plain": [
       "array([[0, 1, 2, 3, 4],\n",
       "       [5, 6, 7, 8, 9]])"
      ]
     },
     "execution_count": 112,
     "metadata": {},
     "output_type": "execute_result"
    }
   ],
   "source": [
    "dataset_5.reshape((2, 5)) # reshape((2, -1))"
   ]
  },
  {
   "cell_type": "markdown",
   "id": "56c66508-2105-40fa-b9d5-30b82be542c9",
   "metadata": {},
   "source": [
    "#### 7. Stack arrays a and b vertically"
   ]
  },
  {
   "cell_type": "code",
   "execution_count": 113,
   "id": "ab654005-86f1-46a1-aa9b-4921fa63afef",
   "metadata": {},
   "outputs": [],
   "source": [
    "a = np.arange(10).reshape(2,-1)\n",
    "b = np.repeat(1, 10).reshape(2,-1)"
   ]
  },
  {
   "cell_type": "code",
   "execution_count": 120,
   "id": "4e666fc5-3d5b-4fcf-890f-a4b219b29b88",
   "metadata": {},
   "outputs": [
    {
     "name": "stdout",
     "output_type": "stream",
     "text": [
      "[[0 1 2 3 4]\n",
      " [5 6 7 8 9]],\n",
      "[[1 1 1 1 1]\n",
      " [1 1 1 1 1]]\n"
     ]
    }
   ],
   "source": [
    "print(f\"{a},\\n{b}\")"
   ]
  },
  {
   "cell_type": "code",
   "execution_count": 129,
   "id": "ba3b40ff-cbe5-4692-a80a-df708a988a28",
   "metadata": {},
   "outputs": [
    {
     "data": {
      "text/plain": [
       "array([[0, 1, 2, 3, 4],\n",
       "       [5, 6, 7, 8, 9],\n",
       "       [1, 1, 1, 1, 1],\n",
       "       [1, 1, 1, 1, 1]])"
      ]
     },
     "execution_count": 129,
     "metadata": {},
     "output_type": "execute_result"
    }
   ],
   "source": [
    "np.concatenate([a, b], axis=0)"
   ]
  },
  {
   "cell_type": "code",
   "execution_count": 130,
   "id": "1f88fb6c-17bd-4c3c-ac49-3b8fe56a2ec3",
   "metadata": {},
   "outputs": [
    {
     "data": {
      "text/plain": [
       "array([[0, 1, 2, 3, 4],\n",
       "       [5, 6, 7, 8, 9],\n",
       "       [1, 1, 1, 1, 1],\n",
       "       [1, 1, 1, 1, 1]])"
      ]
     },
     "execution_count": 130,
     "metadata": {},
     "output_type": "execute_result"
    }
   ],
   "source": [
    "np.r_[a, b]"
   ]
  },
  {
   "cell_type": "code",
   "execution_count": 131,
   "id": "7e63998e-68da-47d2-a6d8-8b38cd60ade3",
   "metadata": {},
   "outputs": [
    {
     "data": {
      "text/plain": [
       "array([[0, 1, 2, 3, 4],\n",
       "       [5, 6, 7, 8, 9],\n",
       "       [1, 1, 1, 1, 1],\n",
       "       [1, 1, 1, 1, 1]])"
      ]
     },
     "execution_count": 131,
     "metadata": {},
     "output_type": "execute_result"
    }
   ],
   "source": [
    "np.vstack([a, b])"
   ]
  },
  {
   "cell_type": "markdown",
   "id": "f1c77746-4063-4f66-a25f-404f25d308ef",
   "metadata": {},
   "source": [
    "#### 8. Stack the arrays a and b horizontally"
   ]
  },
  {
   "cell_type": "code",
   "execution_count": 132,
   "id": "31fae821-0cb6-40e3-8b14-7ddbf8da0c66",
   "metadata": {},
   "outputs": [],
   "source": [
    "a = np.arange(10).reshape(2,-1)\n",
    "b = np.repeat(1, 10).reshape(2,-1)"
   ]
  },
  {
   "cell_type": "code",
   "execution_count": 133,
   "id": "c11d8ca4-ee0f-4665-80ba-0850b97bc851",
   "metadata": {},
   "outputs": [
    {
     "name": "stdout",
     "output_type": "stream",
     "text": [
      "[[0 1 2 3 4]\n",
      " [5 6 7 8 9]]\n",
      "[[1 1 1 1 1]\n",
      " [1 1 1 1 1]]\n"
     ]
    }
   ],
   "source": [
    "print(f\"{a}\\n{b}\")"
   ]
  },
  {
   "cell_type": "code",
   "execution_count": 138,
   "id": "85a69972-71c1-47b2-96cc-7b4adebec4b9",
   "metadata": {},
   "outputs": [
    {
     "data": {
      "text/plain": [
       "array([[0, 1, 2, 3, 4, 1, 1, 1, 1, 1],\n",
       "       [5, 6, 7, 8, 9, 1, 1, 1, 1, 1]])"
      ]
     },
     "execution_count": 138,
     "metadata": {},
     "output_type": "execute_result"
    }
   ],
   "source": [
    "np.hstack([a,b])"
   ]
  },
  {
   "cell_type": "code",
   "execution_count": 139,
   "id": "d27753a5-e0c3-45f3-9994-4f9382e4ba21",
   "metadata": {},
   "outputs": [
    {
     "data": {
      "text/plain": [
       "array([[0, 1, 2, 3, 4, 1, 1, 1, 1, 1],\n",
       "       [5, 6, 7, 8, 9, 1, 1, 1, 1, 1]])"
      ]
     },
     "execution_count": 139,
     "metadata": {},
     "output_type": "execute_result"
    }
   ],
   "source": [
    "np.concatenate([a, b], axis=1)"
   ]
  },
  {
   "cell_type": "markdown",
   "id": "22e00d30-72b9-4428-b47c-2b2c15812c10",
   "metadata": {},
   "source": [
    "#### 9. Create the following pattern without hardcoding."
   ]
  },
  {
   "cell_type": "code",
   "execution_count": 141,
   "id": "12b6f39e-c856-4418-aec7-27bbc1da8dfb",
   "metadata": {},
   "outputs": [],
   "source": [
    "a = np.array([1,2,3])"
   ]
  },
  {
   "cell_type": "code",
   "execution_count": 142,
   "id": "67a41ac3-1109-40c5-abef-b71b3a67ca3d",
   "metadata": {},
   "outputs": [
    {
     "data": {
      "text/plain": [
       "array([1, 1, 1, 2, 2, 2, 3, 3, 3, 1, 2, 3, 1, 2, 3, 1, 2, 3])"
      ]
     },
     "execution_count": 142,
     "metadata": {},
     "output_type": "execute_result"
    }
   ],
   "source": [
    "np.r_[np.repeat(a, 3), np.tile(a, 3)]"
   ]
  },
  {
   "cell_type": "code",
   "execution_count": 143,
   "id": "64089319-d21d-4704-9c99-926768e8b054",
   "metadata": {},
   "outputs": [
    {
     "data": {
      "text/plain": [
       "(array([1, 1, 1, 2, 2, 2, 3, 3, 3]), array([1, 2, 3, 1, 2, 3, 1, 2, 3]))"
      ]
     },
     "execution_count": 143,
     "metadata": {},
     "output_type": "execute_result"
    }
   ],
   "source": [
    "np.repeat(a, 3), np.tile(a, 3)"
   ]
  },
  {
   "cell_type": "markdown",
   "id": "d8428798-4910-464e-af46-217ce6c09672",
   "metadata": {},
   "source": [
    "#### 10. Get the common items between a and b"
   ]
  },
  {
   "cell_type": "code",
   "execution_count": 144,
   "id": "45298391-0b43-47c0-87dc-e6213edfdb62",
   "metadata": {},
   "outputs": [],
   "source": [
    "a = np.array([1,2,3,2,3,4,3,4,5,6])\n",
    "b = np.array([7,2,10,2,7,4,9,4,9,8])"
   ]
  },
  {
   "cell_type": "code",
   "execution_count": 145,
   "id": "6cef354a-7529-4fd3-ba1a-e0bfb8b82518",
   "metadata": {},
   "outputs": [
    {
     "data": {
      "text/plain": [
       "array([2, 4])"
      ]
     },
     "execution_count": 145,
     "metadata": {},
     "output_type": "execute_result"
    }
   ],
   "source": [
    "np.intersect1d(a, b)"
   ]
  },
  {
   "cell_type": "markdown",
   "id": "353ee601-7495-4ec0-b17e-e603f25f22a0",
   "metadata": {},
   "source": [
    "#### 11. From array a remove all items present in array b"
   ]
  },
  {
   "cell_type": "code",
   "execution_count": 166,
   "id": "9845792a-89af-4403-8c40-dec86541c986",
   "metadata": {},
   "outputs": [],
   "source": [
    "a = np.array([1,2,3,4,5])\n",
    "b = np.array([5,6,7,8,9])"
   ]
  },
  {
   "cell_type": "code",
   "execution_count": 168,
   "id": "9210ed19-5b1e-489a-a468-d106ccceab04",
   "metadata": {},
   "outputs": [
    {
     "data": {
      "text/plain": [
       "array([1, 2, 3, 4])"
      ]
     },
     "execution_count": 168,
     "metadata": {},
     "output_type": "execute_result"
    }
   ],
   "source": [
    "np.setdiff1d(a,b)"
   ]
  },
  {
   "cell_type": "markdown",
   "id": "95cf2be0-7094-43d8-81e8-b7e799d5b319",
   "metadata": {},
   "source": [
    "#### 12. Get the positions where elements of a and b match"
   ]
  },
  {
   "cell_type": "code",
   "execution_count": 173,
   "id": "6deeb28f-87af-475d-90cc-12cf0dce8e61",
   "metadata": {},
   "outputs": [],
   "source": [
    "a = np.array([1,2,3,2,3,4,3,4,5,6])\n",
    "b = np.array([7,2,10,2,7,4,9,4,9,8])"
   ]
  },
  {
   "cell_type": "code",
   "execution_count": 176,
   "id": "6139022a-92f0-4066-a349-b2fe227354fd",
   "metadata": {},
   "outputs": [
    {
     "data": {
      "text/plain": [
       "(array([1, 3, 5, 7]),)"
      ]
     },
     "execution_count": 176,
     "metadata": {},
     "output_type": "execute_result"
    }
   ],
   "source": [
    "np.where(a == b)"
   ]
  },
  {
   "cell_type": "markdown",
   "id": "420f898d-ed1a-46ca-bdd3-e7fa21c7a8d2",
   "metadata": {},
   "source": [
    "#### 13. Get all items between 5 and 10 from a"
   ]
  },
  {
   "cell_type": "code",
   "execution_count": 177,
   "id": "7a17963f-6cbb-4122-a4f0-743fd7f4d992",
   "metadata": {},
   "outputs": [],
   "source": [
    "a = np.array([2, 6, 1, 9, 10, 3, 27])"
   ]
  },
  {
   "cell_type": "code",
   "execution_count": 195,
   "id": "76cfae1f-fefe-4256-bb9c-56916d741f5c",
   "metadata": {},
   "outputs": [
    {
     "data": {
      "text/plain": [
       "array([ 6,  9, 10])"
      ]
     },
     "execution_count": 195,
     "metadata": {},
     "output_type": "execute_result"
    }
   ],
   "source": [
    "out = np.where((a >= 5)&(a <=10))\n",
    "a[out]"
   ]
  },
  {
   "cell_type": "code",
   "execution_count": 196,
   "id": "450cfd58-dc7d-4be7-a858-fe7c092de0da",
   "metadata": {},
   "outputs": [
    {
     "data": {
      "text/plain": [
       "array([ 6,  9, 10])"
      ]
     },
     "execution_count": 196,
     "metadata": {},
     "output_type": "execute_result"
    }
   ],
   "source": [
    "a[(a >= 5) & (a <= 10)]"
   ]
  },
  {
   "cell_type": "markdown",
   "id": "46f37780-f954-417c-9d13-8b50ee2b4f09",
   "metadata": {},
   "source": [
    "#### 14. Convert the function maxx that works on two scalars, to work on two arrays"
   ]
  },
  {
   "cell_type": "code",
   "execution_count": 200,
   "id": "df2fd498-612a-4c92-b1eb-8a2a2f67f1eb",
   "metadata": {},
   "outputs": [],
   "source": [
    "a = np.array([5, 7, 9, 8, 6, 4, 5])\n",
    "b = np.array([6, 3, 4, 8, 9, 7, 1])"
   ]
  },
  {
   "cell_type": "code",
   "execution_count": 197,
   "id": "82c7ae9e-13f0-4e76-8dc4-7808260e82db",
   "metadata": {},
   "outputs": [],
   "source": [
    "def maxx(x, y):\n",
    "    \"\"\"Get the maximum of two items\"\"\"\n",
    "    if x >= y:\n",
    "        return x\n",
    "    else:\n",
    "        return y"
   ]
  },
  {
   "cell_type": "code",
   "execution_count": 203,
   "id": "03da3b43-a01d-4b55-aab1-feafaf9e2223",
   "metadata": {},
   "outputs": [],
   "source": [
    "pair_max = np.vectorize(maxx, otypes=[float])"
   ]
  },
  {
   "cell_type": "code",
   "execution_count": 204,
   "id": "386ca15f-b8bd-4d2e-b4b3-ee2b498634f7",
   "metadata": {},
   "outputs": [
    {
     "data": {
      "text/plain": [
       "array([6., 7., 9., 8., 9., 7., 5.])"
      ]
     },
     "execution_count": 204,
     "metadata": {},
     "output_type": "execute_result"
    }
   ],
   "source": [
    "pair_max(a,b)"
   ]
  },
  {
   "cell_type": "markdown",
   "id": "e05f4103-8d5d-4ff5-ba28-4a8fe40e2ef7",
   "metadata": {},
   "source": [
    "#### 15. Swap columns 1 and 2 in the array arr"
   ]
  },
  {
   "cell_type": "code",
   "execution_count": 206,
   "id": "324df6ad-68d6-4f7c-941b-a6a95ec9ed2a",
   "metadata": {},
   "outputs": [],
   "source": [
    "arr = np.arange(9).reshape(3,3)"
   ]
  },
  {
   "cell_type": "code",
   "execution_count": 207,
   "id": "25b71b46-166c-4768-a0d5-ee995768e678",
   "metadata": {},
   "outputs": [
    {
     "data": {
      "text/plain": [
       "array([[0, 1, 2],\n",
       "       [3, 4, 5],\n",
       "       [6, 7, 8]])"
      ]
     },
     "execution_count": 207,
     "metadata": {},
     "output_type": "execute_result"
    }
   ],
   "source": [
    "arr\n"
   ]
  },
  {
   "cell_type": "code",
   "execution_count": 208,
   "id": "d15c1a76-3366-452f-8acd-9c33d9db8e92",
   "metadata": {},
   "outputs": [],
   "source": [
    "arr[:, [2, 0]] = arr[:, [0, 2]]"
   ]
  },
  {
   "cell_type": "code",
   "execution_count": 209,
   "id": "91876b2b-6d92-4bd0-9cc3-fae4d3cc7bdc",
   "metadata": {},
   "outputs": [
    {
     "data": {
      "text/plain": [
       "array([[2, 1, 0],\n",
       "       [5, 4, 3],\n",
       "       [8, 7, 6]])"
      ]
     },
     "execution_count": 209,
     "metadata": {},
     "output_type": "execute_result"
    }
   ],
   "source": [
    "arr"
   ]
  },
  {
   "cell_type": "code",
   "execution_count": 210,
   "id": "d385efc7-207e-4852-997e-b69887d57898",
   "metadata": {},
   "outputs": [
    {
     "data": {
      "text/plain": [
       "array([[5, 4, 3],\n",
       "       [2, 1, 0],\n",
       "       [8, 7, 6]])"
      ]
     },
     "execution_count": 210,
     "metadata": {},
     "output_type": "execute_result"
    }
   ],
   "source": [
    "arr[[1,0,2], :]"
   ]
  },
  {
   "cell_type": "code",
   "execution_count": null,
   "id": "a936f079-7d67-4971-87a0-1e57e3117cc7",
   "metadata": {},
   "outputs": [],
   "source": []
  }
 ],
 "metadata": {
  "kernelspec": {
   "display_name": "Python 3 (ipykernel)",
   "language": "python",
   "name": "python3"
  },
  "language_info": {
   "codemirror_mode": {
    "name": "ipython",
    "version": 3
   },
   "file_extension": ".py",
   "mimetype": "text/x-python",
   "name": "python",
   "nbconvert_exporter": "python",
   "pygments_lexer": "ipython3",
   "version": "3.9.7"
  }
 },
 "nbformat": 4,
 "nbformat_minor": 5
}
