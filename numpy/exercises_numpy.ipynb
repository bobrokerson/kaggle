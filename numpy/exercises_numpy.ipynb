{
 "cells": [
  {
   "cell_type": "markdown",
   "id": "1b564ef3-5079-4c9e-ac56-22746bc61c87",
   "metadata": {},
   "source": [
    "### NumPy Exercises for Data Analysis"
   ]
  },
  {
   "cell_type": "code",
   "execution_count": 1,
   "id": "7a375bdf-f252-4e1c-a59a-7d4b2e2da722",
   "metadata": {},
   "outputs": [],
   "source": [
    "import numpy as np"
   ]
  },
  {
   "cell_type": "markdown",
   "id": "9ede4e66-c11a-4ffc-9aa9-e51c193a650e",
   "metadata": {},
   "source": [
    "#### 1. Create a 1D array of numbers from 0 to 9"
   ]
  },
  {
   "cell_type": "code",
   "execution_count": 10,
   "id": "09d44f18-f4d3-48af-baea-8f484a642ea9",
   "metadata": {},
   "outputs": [],
   "source": [
    "dataset = np.arange(0,10)"
   ]
  },
  {
   "cell_type": "code",
   "execution_count": 11,
   "id": "bbdcbdb7-54d7-4a72-a8bd-83e78ba97374",
   "metadata": {},
   "outputs": [
    {
     "name": "stdout",
     "output_type": "stream",
     "text": [
      "[0 1 2 3 4 5 6 7 8 9]\n"
     ]
    }
   ],
   "source": [
    "print(dataset)"
   ]
  },
  {
   "cell_type": "markdown",
   "id": "4831773d-194d-47f3-bc22-398a972f278b",
   "metadata": {},
   "source": [
    "#### 2. Create a 3×3 numpy array of all True’s"
   ]
  },
  {
   "cell_type": "code",
   "execution_count": 21,
   "id": "a45ed6a1-07d6-4bff-be61-e525383220ca",
   "metadata": {},
   "outputs": [],
   "source": [
    "dataset_1 = np.full((5, 5), True, dtype=bool)"
   ]
  },
  {
   "cell_type": "code",
   "execution_count": 22,
   "id": "eac0565c-44e0-4af8-a1cd-504eeec54019",
   "metadata": {},
   "outputs": [
    {
     "name": "stdout",
     "output_type": "stream",
     "text": [
      "[[ True  True  True  True  True]\n",
      " [ True  True  True  True  True]\n",
      " [ True  True  True  True  True]\n",
      " [ True  True  True  True  True]\n",
      " [ True  True  True  True  True]]\n"
     ]
    }
   ],
   "source": [
    "print(dataset_1)"
   ]
  },
  {
   "cell_type": "markdown",
   "id": "8a7fcada-7265-49eb-92cc-0cc5744674f2",
   "metadata": {},
   "source": [
    "#### 3. Extract all odd numbers from arr"
   ]
  },
  {
   "cell_type": "code",
   "execution_count": 41,
   "id": "567fa4e8-0e4c-4e16-8b3f-bb50a676b81a",
   "metadata": {},
   "outputs": [
    {
     "data": {
      "text/plain": [
       "array([1, 3, 5, 7, 9])"
      ]
     },
     "execution_count": 41,
     "metadata": {},
     "output_type": "execute_result"
    }
   ],
   "source": [
    "dataset_2 = np.arange(0,10)\n",
    "dataset_2[dataset_2 % 2 == 1]"
   ]
  },
  {
   "cell_type": "markdown",
   "id": "df56354d-cc68-4475-b1ce-adaa8c9cc8b4",
   "metadata": {},
   "source": [
    "#### 4. Replace all odd numbers in arr with -1"
   ]
  },
  {
   "cell_type": "code",
   "execution_count": 43,
   "id": "99849ad5-111a-4b69-b34f-765009c81d0d",
   "metadata": {},
   "outputs": [
    {
     "name": "stdout",
     "output_type": "stream",
     "text": [
      "[ 0 -1  2 -1  4 -1  6 -1  8 -1]\n"
     ]
    }
   ],
   "source": [
    "dataset_2[dataset_2 % 2 == 1] =-1\n",
    "print(dataset_2)"
   ]
  },
  {
   "cell_type": "markdown",
   "id": "a2cf0dee-5510-48e5-8c0d-93eec8d1d5b3",
   "metadata": {},
   "source": [
    "#### 5. Replace all odd numbers in arr with -1 without changing "
   ]
  },
  {
   "cell_type": "code",
   "execution_count": 99,
   "id": "ba44bd1a-d4b9-4abf-bb11-dada0bf9e08b",
   "metadata": {},
   "outputs": [],
   "source": [
    "dataset_3 = np.arange(10)"
   ]
  },
  {
   "cell_type": "code",
   "execution_count": 100,
   "id": "1949b070-8a1d-45a6-b189-49354b0fac7b",
   "metadata": {},
   "outputs": [],
   "source": [
    "dataset_4 = np.where(dataset_3 % 2 == 1, -1, dataset_3)"
   ]
  },
  {
   "cell_type": "code",
   "execution_count": 101,
   "id": "33723be2-fde0-46b8-b088-7cc1ee258010",
   "metadata": {},
   "outputs": [
    {
     "name": "stdout",
     "output_type": "stream",
     "text": [
      "input data: [0 1 2 3 4 5 6 7 8 9] \n",
      "new data: [ 0 -1  2 -1  4 -1  6 -1  8 -1]\n"
     ]
    }
   ],
   "source": [
    "print(f\"input data: {dataset_3} \\nnew data: {dataset_4}\")"
   ]
  },
  {
   "cell_type": "markdown",
   "id": "62d1da2b-0824-4754-9a31-907eb99c7075",
   "metadata": {},
   "source": [
    "#### 6. Convert a 1D array to a 2D array with 2 rows"
   ]
  },
  {
   "cell_type": "code",
   "execution_count": 106,
   "id": "5aeafcbc-d1e9-4c6e-8a9f-c020fe9bb2b1",
   "metadata": {},
   "outputs": [],
   "source": [
    "dataset_5 = np.arange(10)\n"
   ]
  },
  {
   "cell_type": "code",
   "execution_count": 112,
   "id": "5169c629-fb8c-4762-bac9-869d473761b6",
   "metadata": {},
   "outputs": [
    {
     "data": {
      "text/plain": [
       "array([[0, 1, 2, 3, 4],\n",
       "       [5, 6, 7, 8, 9]])"
      ]
     },
     "execution_count": 112,
     "metadata": {},
     "output_type": "execute_result"
    }
   ],
   "source": [
    "dataset_5.reshape((2, 5)) # reshape((2, -1))"
   ]
  },
  {
   "cell_type": "markdown",
   "id": "56c66508-2105-40fa-b9d5-30b82be542c9",
   "metadata": {},
   "source": [
    "#### 7. Stack arrays a and b vertically"
   ]
  },
  {
   "cell_type": "code",
   "execution_count": 113,
   "id": "ab654005-86f1-46a1-aa9b-4921fa63afef",
   "metadata": {},
   "outputs": [],
   "source": [
    "a = np.arange(10).reshape(2,-1)\n",
    "b = np.repeat(1, 10).reshape(2,-1)"
   ]
  },
  {
   "cell_type": "code",
   "execution_count": 120,
   "id": "4e666fc5-3d5b-4fcf-890f-a4b219b29b88",
   "metadata": {},
   "outputs": [
    {
     "name": "stdout",
     "output_type": "stream",
     "text": [
      "[[0 1 2 3 4]\n",
      " [5 6 7 8 9]],\n",
      "[[1 1 1 1 1]\n",
      " [1 1 1 1 1]]\n"
     ]
    }
   ],
   "source": [
    "print(f\"{a},\\n{b}\")"
   ]
  },
  {
   "cell_type": "code",
   "execution_count": 129,
   "id": "ba3b40ff-cbe5-4692-a80a-df708a988a28",
   "metadata": {},
   "outputs": [
    {
     "data": {
      "text/plain": [
       "array([[0, 1, 2, 3, 4],\n",
       "       [5, 6, 7, 8, 9],\n",
       "       [1, 1, 1, 1, 1],\n",
       "       [1, 1, 1, 1, 1]])"
      ]
     },
     "execution_count": 129,
     "metadata": {},
     "output_type": "execute_result"
    }
   ],
   "source": [
    "np.concatenate([a, b], axis=0)"
   ]
  },
  {
   "cell_type": "code",
   "execution_count": 130,
   "id": "1f88fb6c-17bd-4c3c-ac49-3b8fe56a2ec3",
   "metadata": {},
   "outputs": [
    {
     "data": {
      "text/plain": [
       "array([[0, 1, 2, 3, 4],\n",
       "       [5, 6, 7, 8, 9],\n",
       "       [1, 1, 1, 1, 1],\n",
       "       [1, 1, 1, 1, 1]])"
      ]
     },
     "execution_count": 130,
     "metadata": {},
     "output_type": "execute_result"
    }
   ],
   "source": [
    "np.r_[a, b]"
   ]
  },
  {
   "cell_type": "code",
   "execution_count": 131,
   "id": "7e63998e-68da-47d2-a6d8-8b38cd60ade3",
   "metadata": {},
   "outputs": [
    {
     "data": {
      "text/plain": [
       "array([[0, 1, 2, 3, 4],\n",
       "       [5, 6, 7, 8, 9],\n",
       "       [1, 1, 1, 1, 1],\n",
       "       [1, 1, 1, 1, 1]])"
      ]
     },
     "execution_count": 131,
     "metadata": {},
     "output_type": "execute_result"
    }
   ],
   "source": [
    "np.vstack([a, b])"
   ]
  },
  {
   "cell_type": "code",
   "execution_count": null,
   "id": "66f85912-f0f0-400d-a1d8-33a66ca529d1",
   "metadata": {},
   "outputs": [],
   "source": []
  }
 ],
 "metadata": {
  "kernelspec": {
   "display_name": "Python 3 (ipykernel)",
   "language": "python",
   "name": "python3"
  },
  "language_info": {
   "codemirror_mode": {
    "name": "ipython",
    "version": 3
   },
   "file_extension": ".py",
   "mimetype": "text/x-python",
   "name": "python",
   "nbconvert_exporter": "python",
   "pygments_lexer": "ipython3",
   "version": "3.9.7"
  }
 },
 "nbformat": 4,
 "nbformat_minor": 5
}
