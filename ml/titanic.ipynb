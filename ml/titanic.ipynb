{
 "cells": [
  {
   "cell_type": "code",
   "execution_count": 1,
   "id": "5fb22761",
   "metadata": {
    "_cell_guid": "b1076dfc-b9ad-4769-8c92-a6c4dae69d19",
    "_uuid": "8f2839f25d086af736a60e9eeb907d3b93b6e0e5",
    "execution": {
     "iopub.execute_input": "2022-05-09T19:37:13.248116Z",
     "iopub.status.busy": "2022-05-09T19:37:13.247571Z",
     "iopub.status.idle": "2022-05-09T19:37:13.259729Z",
     "shell.execute_reply": "2022-05-09T19:37:13.259148Z"
    },
    "papermill": {
     "duration": 0.039359,
     "end_time": "2022-05-09T19:37:13.262510",
     "exception": false,
     "start_time": "2022-05-09T19:37:13.223151",
     "status": "completed"
    },
    "tags": []
   },
   "outputs": [
    {
     "name": "stdout",
     "output_type": "stream",
     "text": [
      "/kaggle/input/titanic/train.csv\n",
      "/kaggle/input/titanic/test.csv\n",
      "/kaggle/input/titanic/gender_submission.csv\n"
     ]
    }
   ],
   "source": [
    "# This Python 3 environment comes with many helpful analytics libraries installed\n",
    "# It is defined by the kaggle/python Docker image: https://github.com/kaggle/docker-python\n",
    "# For example, here's several helpful packages to load\n",
    "\n",
    "import numpy as np # linear algebra\n",
    "import pandas as pd # data processing, CSV file I/O (e.g. pd.read_csv)\n",
    "\n",
    "# Input data files are available in the read-only \"../input/\" directory\n",
    "# For example, running this (by clicking run or pressing Shift+Enter) will list all files under the input directory\n",
    "\n",
    "import os\n",
    "for dirname, _, filenames in os.walk('/kaggle/input'):\n",
    "    for filename in filenames:\n",
    "        print(os.path.join(dirname, filename))\n",
    "\n",
    "# You can write up to 20GB to the current directory (/kaggle/working/) that gets preserved as output when you create a version using \"Save & Run All\" \n",
    "# You can also write temporary files to /kaggle/temp/, but they won't be saved outside of the current session"
   ]
  },
  {
   "cell_type": "code",
   "execution_count": 2,
   "id": "622eaf7d",
   "metadata": {
    "execution": {
     "iopub.execute_input": "2022-05-09T19:37:13.310081Z",
     "iopub.status.busy": "2022-05-09T19:37:13.309567Z",
     "iopub.status.idle": "2022-05-09T19:37:13.314845Z",
     "shell.execute_reply": "2022-05-09T19:37:13.314315Z"
    },
    "papermill": {
     "duration": 0.030646,
     "end_time": "2022-05-09T19:37:13.316815",
     "exception": false,
     "start_time": "2022-05-09T19:37:13.286169",
     "status": "completed"
    },
    "tags": []
   },
   "outputs": [
    {
     "name": "stdout",
     "output_type": "stream",
     "text": [
      "/kaggle/input/titanic/train.csv\n",
      "/kaggle/input/titanic/test.csv\n",
      "/kaggle/input/titanic/gender_submission.csv\n"
     ]
    }
   ],
   "source": [
    "import os\n",
    "for dirname, _, filenames in os.walk('/kaggle/input'):\n",
    "    for filename in filenames:\n",
    "        print(os.path.join(dirname, filename))"
   ]
  },
  {
   "cell_type": "code",
   "execution_count": 3,
   "id": "85866f18",
   "metadata": {
    "execution": {
     "iopub.execute_input": "2022-05-09T19:37:13.363583Z",
     "iopub.status.busy": "2022-05-09T19:37:13.363320Z",
     "iopub.status.idle": "2022-05-09T19:37:14.801938Z",
     "shell.execute_reply": "2022-05-09T19:37:14.801267Z"
    },
    "papermill": {
     "duration": 1.464772,
     "end_time": "2022-05-09T19:37:14.804223",
     "exception": false,
     "start_time": "2022-05-09T19:37:13.339451",
     "status": "completed"
    },
    "tags": []
   },
   "outputs": [],
   "source": [
    "# data analysis and wrangling\n",
    "import pandas as pd\n",
    "import numpy as np\n",
    "import random as rnd\n",
    "\n",
    "# visualization\n",
    "import seaborn as sns\n",
    "import matplotlib.pyplot as plt\n",
    "%matplotlib inline\n",
    "\n",
    "# machine learning models\n",
    "from sklearn.linear_model import LogisticRegression\n",
    "from sklearn.svm import SVC, LinearSVC\n",
    "from sklearn.ensemble import RandomForestClassifier\n",
    "from sklearn.neighbors import KNeighborsClassifier\n",
    "from sklearn.naive_bayes import GaussianNB\n",
    "from sklearn.linear_model import Perceptron\n",
    "from sklearn.linear_model import SGDClassifier\n",
    "from sklearn.tree import DecisionTreeClassifier"
   ]
  },
  {
   "cell_type": "code",
   "execution_count": 4,
   "id": "2401e488",
   "metadata": {
    "execution": {
     "iopub.execute_input": "2022-05-09T19:37:14.851835Z",
     "iopub.status.busy": "2022-05-09T19:37:14.851117Z",
     "iopub.status.idle": "2022-05-09T19:37:14.878319Z",
     "shell.execute_reply": "2022-05-09T19:37:14.877376Z"
    },
    "papermill": {
     "duration": 0.053723,
     "end_time": "2022-05-09T19:37:14.880788",
     "exception": false,
     "start_time": "2022-05-09T19:37:14.827065",
     "status": "completed"
    },
    "tags": []
   },
   "outputs": [],
   "source": [
    "train_df = pd.read_csv('../input/titanic/train.csv')\n",
    "test_df = pd.read_csv('../input/titanic/test.csv')\n",
    "combine = [train_df, test_df]"
   ]
  },
  {
   "cell_type": "code",
   "execution_count": 5,
   "id": "523333d2",
   "metadata": {
    "execution": {
     "iopub.execute_input": "2022-05-09T19:37:14.930114Z",
     "iopub.status.busy": "2022-05-09T19:37:14.929835Z",
     "iopub.status.idle": "2022-05-09T19:37:14.936651Z",
     "shell.execute_reply": "2022-05-09T19:37:14.935760Z"
    },
    "papermill": {
     "duration": 0.033398,
     "end_time": "2022-05-09T19:37:14.938580",
     "exception": false,
     "start_time": "2022-05-09T19:37:14.905182",
     "status": "completed"
    },
    "tags": []
   },
   "outputs": [],
   "source": [
    "param_test1 = {\n",
    "    'n_estimators': [100,200,500,750,1000],\n",
    "    'max_depth': [3,5,7,9],\n",
    "    'min_child_weight': [1,3,5],\n",
    "    'gamma':[i/10.0 for i in range(0,5)],\n",
    "    'subsample':[i/10.0 for i in range(6,10)],\n",
    "    'colsample_bytree':[i/10.0 for i in range(6,10)],\n",
    "    'reg_alpha':[0, 0.001, 0.005, 0.01, 0.05, 0.1, 1],\n",
    "    'learning_rate': [0.01, 0.02, 0.05, 0.1]\n",
    "}"
   ]
  },
  {
   "cell_type": "code",
   "execution_count": 6,
   "id": "190e15f2",
   "metadata": {
    "execution": {
     "iopub.execute_input": "2022-05-09T19:37:14.985769Z",
     "iopub.status.busy": "2022-05-09T19:37:14.985125Z",
     "iopub.status.idle": "2022-05-09T19:37:14.999613Z",
     "shell.execute_reply": "2022-05-09T19:37:14.998611Z"
    },
    "papermill": {
     "duration": 0.040607,
     "end_time": "2022-05-09T19:37:15.001912",
     "exception": false,
     "start_time": "2022-05-09T19:37:14.961305",
     "status": "completed"
    },
    "tags": []
   },
   "outputs": [],
   "source": [
    "train_data = pd.read_csv('../input/titanic/train.csv')\n",
    "test_data = pd.read_csv('../input/titanic/test.csv')"
   ]
  },
  {
   "cell_type": "code",
   "execution_count": 7,
   "id": "2fc8e44e",
   "metadata": {
    "execution": {
     "iopub.execute_input": "2022-05-09T19:37:15.050611Z",
     "iopub.status.busy": "2022-05-09T19:37:15.050345Z",
     "iopub.status.idle": "2022-05-09T19:37:15.073879Z",
     "shell.execute_reply": "2022-05-09T19:37:15.073274Z"
    },
    "papermill": {
     "duration": 0.050498,
     "end_time": "2022-05-09T19:37:15.075997",
     "exception": false,
     "start_time": "2022-05-09T19:37:15.025499",
     "status": "completed"
    },
    "tags": []
   },
   "outputs": [],
   "source": [
    "y = train_data[\"Survived\"]\n",
    "\n",
    "features = [\"Pclass\", \"Sex\", \"SibSp\", \"Parch\"]\n",
    "X = pd.get_dummies(train_data[features])\n",
    "X_test = pd.get_dummies(test_data[features])"
   ]
  },
  {
   "cell_type": "code",
   "execution_count": 8,
   "id": "ccdb574b",
   "metadata": {
    "execution": {
     "iopub.execute_input": "2022-05-09T19:37:15.123329Z",
     "iopub.status.busy": "2022-05-09T19:37:15.122830Z",
     "iopub.status.idle": "2022-05-09T19:37:15.128277Z",
     "shell.execute_reply": "2022-05-09T19:37:15.127725Z"
    },
    "papermill": {
     "duration": 0.031448,
     "end_time": "2022-05-09T19:37:15.130204",
     "exception": false,
     "start_time": "2022-05-09T19:37:15.098756",
     "status": "completed"
    },
    "tags": []
   },
   "outputs": [],
   "source": [
    "from sklearn.model_selection import train_test_split\n",
    "X_t, X_v, y_t, y_v = train_test_split(X, y, test_size=.25, random_state=2)"
   ]
  },
  {
   "cell_type": "code",
   "execution_count": 9,
   "id": "db3298eb",
   "metadata": {
    "execution": {
     "iopub.execute_input": "2022-05-09T19:37:15.179890Z",
     "iopub.status.busy": "2022-05-09T19:37:15.179361Z",
     "iopub.status.idle": "2022-05-09T19:37:16.948233Z",
     "shell.execute_reply": "2022-05-09T19:37:16.947686Z"
    },
    "papermill": {
     "duration": 1.795263,
     "end_time": "2022-05-09T19:37:16.950186",
     "exception": false,
     "start_time": "2022-05-09T19:37:15.154923",
     "status": "completed"
    },
    "tags": []
   },
   "outputs": [
    {
     "data": {
      "text/plain": [
       "RandomForestClassifier(max_depth=3, n_estimators=1000, random_state=2)"
      ]
     },
     "execution_count": 9,
     "metadata": {},
     "output_type": "execute_result"
    }
   ],
   "source": [
    "from sklearn.ensemble import RandomForestClassifier\n",
    "\n",
    "model = RandomForestClassifier(n_estimators=1000, max_depth=3, random_state=2)\n",
    "model.fit(X_t, y_t)"
   ]
  },
  {
   "cell_type": "code",
   "execution_count": 10,
   "id": "31ef9e3f",
   "metadata": {
    "execution": {
     "iopub.execute_input": "2022-05-09T19:37:16.997629Z",
     "iopub.status.busy": "2022-05-09T19:37:16.997110Z",
     "iopub.status.idle": "2022-05-09T19:37:17.165573Z",
     "shell.execute_reply": "2022-05-09T19:37:17.164923Z"
    },
    "papermill": {
     "duration": 0.194855,
     "end_time": "2022-05-09T19:37:17.167838",
     "exception": false,
     "start_time": "2022-05-09T19:37:16.972983",
     "status": "completed"
    },
    "tags": []
   },
   "outputs": [],
   "source": [
    "random_forest = round(model.score(X_t, y_t) * 100, 2)"
   ]
  },
  {
   "cell_type": "code",
   "execution_count": 11,
   "id": "2f79aaa6",
   "metadata": {
    "execution": {
     "iopub.execute_input": "2022-05-09T19:37:17.216261Z",
     "iopub.status.busy": "2022-05-09T19:37:17.215757Z",
     "iopub.status.idle": "2022-05-09T19:37:17.230765Z",
     "shell.execute_reply": "2022-05-09T19:37:17.230029Z"
    },
    "papermill": {
     "duration": 0.04113,
     "end_time": "2022-05-09T19:37:17.232693",
     "exception": false,
     "start_time": "2022-05-09T19:37:17.191563",
     "status": "completed"
    },
    "tags": []
   },
   "outputs": [
    {
     "data": {
      "text/html": [
       "<div>\n",
       "<style scoped>\n",
       "    .dataframe tbody tr th:only-of-type {\n",
       "        vertical-align: middle;\n",
       "    }\n",
       "\n",
       "    .dataframe tbody tr th {\n",
       "        vertical-align: top;\n",
       "    }\n",
       "\n",
       "    .dataframe thead th {\n",
       "        text-align: right;\n",
       "    }\n",
       "</style>\n",
       "<table border=\"1\" class=\"dataframe\">\n",
       "  <thead>\n",
       "    <tr style=\"text-align: right;\">\n",
       "      <th></th>\n",
       "      <th>Model</th>\n",
       "    </tr>\n",
       "    <tr>\n",
       "      <th>Accuracy Score</th>\n",
       "      <th></th>\n",
       "    </tr>\n",
       "  </thead>\n",
       "  <tbody>\n",
       "    <tr>\n",
       "      <th>81.29</th>\n",
       "      <td>Random Forest</td>\n",
       "    </tr>\n",
       "  </tbody>\n",
       "</table>\n",
       "</div>"
      ],
      "text/plain": [
       "                        Model\n",
       "Accuracy Score               \n",
       "81.29           Random Forest"
      ]
     },
     "execution_count": 11,
     "metadata": {},
     "output_type": "execute_result"
    }
   ],
   "source": [
    "results = pd.DataFrame({\n",
    "          'Model': ['Random Forest'],\n",
    "          'Accuracy Score': [random_forest]})\n",
    "result_df = results.sort_values(by='Accuracy Score', ascending=False)\n",
    "result_df = result_df.set_index('Accuracy Score')\n",
    "result_df"
   ]
  },
  {
   "cell_type": "code",
   "execution_count": 12,
   "id": "abaa93a0",
   "metadata": {
    "execution": {
     "iopub.execute_input": "2022-05-09T19:37:17.281646Z",
     "iopub.status.busy": "2022-05-09T19:37:17.281152Z",
     "iopub.status.idle": "2022-05-09T19:37:17.411187Z",
     "shell.execute_reply": "2022-05-09T19:37:17.410604Z"
    },
    "papermill": {
     "duration": 0.156962,
     "end_time": "2022-05-09T19:37:17.413194",
     "exception": false,
     "start_time": "2022-05-09T19:37:17.256232",
     "status": "completed"
    },
    "tags": []
   },
   "outputs": [
    {
     "name": "stdout",
     "output_type": "stream",
     "text": [
      "RF Accuracy: 78.92%\n"
     ]
    }
   ],
   "source": [
    "from sklearn.metrics import accuracy_score\n",
    "y_pred = model.predict(X_v)\n",
    "R_F_C_Accuracy = accuracy_score(y_v, y_pred)\n",
    "print(\"RF Accuracy: %.2f%%\" % (R_F_C_Accuracy * 100.0))"
   ]
  },
  {
   "cell_type": "code",
   "execution_count": 13,
   "id": "eecc93b5",
   "metadata": {
    "execution": {
     "iopub.execute_input": "2022-05-09T19:37:17.462749Z",
     "iopub.status.busy": "2022-05-09T19:37:17.462228Z",
     "iopub.status.idle": "2022-05-09T19:37:17.768966Z",
     "shell.execute_reply": "2022-05-09T19:37:17.768066Z"
    },
    "papermill": {
     "duration": 0.334617,
     "end_time": "2022-05-09T19:37:17.771725",
     "exception": false,
     "start_time": "2022-05-09T19:37:17.437108",
     "status": "completed"
    },
    "tags": []
   },
   "outputs": [],
   "source": [
    "random_forest = RandomForestClassifier(n_estimators=100, oob_score = True)\n",
    "random_forest.fit(X_t, y_t)\n",
    "Y_pred = random_forest.predict(X_v)\n",
    "random_forest.score(X_t, y_t)\n",
    "acc_random_forest = round(random_forest.score(X_t, y_t) * 100, 2)"
   ]
  },
  {
   "cell_type": "code",
   "execution_count": 14,
   "id": "39866eeb",
   "metadata": {
    "execution": {
     "iopub.execute_input": "2022-05-09T19:37:17.821233Z",
     "iopub.status.busy": "2022-05-09T19:37:17.820931Z",
     "iopub.status.idle": "2022-05-09T19:37:17.833630Z",
     "shell.execute_reply": "2022-05-09T19:37:17.832580Z"
    },
    "papermill": {
     "duration": 0.040029,
     "end_time": "2022-05-09T19:37:17.835646",
     "exception": false,
     "start_time": "2022-05-09T19:37:17.795617",
     "status": "completed"
    },
    "tags": []
   },
   "outputs": [
    {
     "data": {
      "text/html": [
       "<div>\n",
       "<style scoped>\n",
       "    .dataframe tbody tr th:only-of-type {\n",
       "        vertical-align: middle;\n",
       "    }\n",
       "\n",
       "    .dataframe tbody tr th {\n",
       "        vertical-align: top;\n",
       "    }\n",
       "\n",
       "    .dataframe thead th {\n",
       "        text-align: right;\n",
       "    }\n",
       "</style>\n",
       "<table border=\"1\" class=\"dataframe\">\n",
       "  <thead>\n",
       "    <tr style=\"text-align: right;\">\n",
       "      <th></th>\n",
       "      <th>Model</th>\n",
       "    </tr>\n",
       "    <tr>\n",
       "      <th>Accuracy Score</th>\n",
       "      <th></th>\n",
       "    </tr>\n",
       "  </thead>\n",
       "  <tbody>\n",
       "    <tr>\n",
       "      <th>83.23</th>\n",
       "      <td>Random Forest</td>\n",
       "    </tr>\n",
       "  </tbody>\n",
       "</table>\n",
       "</div>"
      ],
      "text/plain": [
       "                        Model\n",
       "Accuracy Score               \n",
       "83.23           Random Forest"
      ]
     },
     "execution_count": 14,
     "metadata": {},
     "output_type": "execute_result"
    }
   ],
   "source": [
    "results = pd.DataFrame({\n",
    "          'Model': ['Random Forest'],\n",
    "          'Accuracy Score': [acc_random_forest]})\n",
    "result_df = results.sort_values(by='Accuracy Score', ascending=False)\n",
    "result_df = result_df.set_index('Accuracy Score')\n",
    "result_df"
   ]
  },
  {
   "cell_type": "code",
   "execution_count": 15,
   "id": "5a04c911",
   "metadata": {
    "execution": {
     "iopub.execute_input": "2022-05-09T19:37:17.886036Z",
     "iopub.status.busy": "2022-05-09T19:37:17.885760Z",
     "iopub.status.idle": "2022-05-09T19:37:17.910537Z",
     "shell.execute_reply": "2022-05-09T19:37:17.909420Z"
    },
    "papermill": {
     "duration": 0.052095,
     "end_time": "2022-05-09T19:37:17.912630",
     "exception": false,
     "start_time": "2022-05-09T19:37:17.860535",
     "status": "completed"
    },
    "tags": []
   },
   "outputs": [
    {
     "name": "stdout",
     "output_type": "stream",
     "text": [
      "RF Accuracy: 76.23%\n"
     ]
    }
   ],
   "source": [
    "from sklearn.metrics import accuracy_score\n",
    "y_pred = random_forest.predict(X_v)\n",
    "Accuracy = accuracy_score(y_v, y_pred)\n",
    "print(\"RF Accuracy: %.2f%%\" % (Accuracy * 100.0))"
   ]
  },
  {
   "cell_type": "code",
   "execution_count": 16,
   "id": "46fcf9bd",
   "metadata": {
    "execution": {
     "iopub.execute_input": "2022-05-09T19:37:17.964530Z",
     "iopub.status.busy": "2022-05-09T19:37:17.963840Z",
     "iopub.status.idle": "2022-05-09T19:37:17.970375Z",
     "shell.execute_reply": "2022-05-09T19:37:17.969588Z"
    },
    "papermill": {
     "duration": 0.034544,
     "end_time": "2022-05-09T19:37:17.972439",
     "exception": false,
     "start_time": "2022-05-09T19:37:17.937895",
     "status": "completed"
    },
    "tags": []
   },
   "outputs": [],
   "source": [
    "X_train  = X_t.drop(\"Parch\", axis=1)\n",
    "X_val  = X_v.drop(\"Parch\", axis=1)"
   ]
  },
  {
   "cell_type": "code",
   "execution_count": 17,
   "id": "ef4ab489",
   "metadata": {
    "execution": {
     "iopub.execute_input": "2022-05-09T19:37:18.023229Z",
     "iopub.status.busy": "2022-05-09T19:37:18.022938Z",
     "iopub.status.idle": "2022-05-09T19:37:18.323622Z",
     "shell.execute_reply": "2022-05-09T19:37:18.322429Z"
    },
    "papermill": {
     "duration": 0.330135,
     "end_time": "2022-05-09T19:37:18.327239",
     "exception": false,
     "start_time": "2022-05-09T19:37:17.997104",
     "status": "completed"
    },
    "tags": []
   },
   "outputs": [
    {
     "name": "stdout",
     "output_type": "stream",
     "text": [
      "81.44\n"
     ]
    }
   ],
   "source": [
    "#Run Random Forest again:\n",
    "random_forest = RandomForestClassifier(n_estimators=100, oob_score = True)\n",
    "random_forest.fit(X_train, y_t)\n",
    "Y_prediction = random_forest.predict(X_val)\n",
    "random_forest.score(X_train, y_t)\n",
    "acc_random_forest = round(random_forest.score(X_train, y_t) * 100, 2)\n",
    "print(acc_random_forest)"
   ]
  },
  {
   "cell_type": "code",
   "execution_count": 18,
   "id": "ed4de63d",
   "metadata": {
    "execution": {
     "iopub.execute_input": "2022-05-09T19:37:18.380307Z",
     "iopub.status.busy": "2022-05-09T19:37:18.380032Z",
     "iopub.status.idle": "2022-05-09T19:37:18.908665Z",
     "shell.execute_reply": "2022-05-09T19:37:18.907726Z"
    },
    "papermill": {
     "duration": 0.557636,
     "end_time": "2022-05-09T19:37:18.911117",
     "exception": false,
     "start_time": "2022-05-09T19:37:18.353481",
     "status": "completed"
    },
    "tags": []
   },
   "outputs": [],
   "source": [
    "import requests\n",
    "import io\n",
    "import warnings\n",
    "import re\n",
    "\n",
    "url=\"https://github.com/thisisjasonjafari/my-datascientise-handcode/raw/master/005-datavisualization/titanic.csv\"\n",
    "s=requests.get(url).content\n",
    "c=pd.read_csv(io.StringIO(s.decode('utf-8')))\n",
    " \n",
    "test_labels = c\n",
    "test = pd.read_csv('../input/titanic/test.csv')\n",
    "\n",
    "warnings.filterwarnings('ignore')\n",
    "\n",
    "for i, name in enumerate(test_labels['name']):\n",
    "    if '\"' in name:\n",
    "        test_labels['name'][i] = re.sub('\"', '', name)\n",
    "        \n",
    "for i, name in enumerate(test['Name']):\n",
    "    if '\"' in name:\n",
    "        test['Name'][i] = re.sub('\"', '', name)\n",
    "        \n",
    "survived = []\n",
    "\n",
    "for name in test['Name']:\n",
    "    survived.append(int(test_labels.loc[test_labels['name'] == name]['survived'].values[-1]))"
   ]
  },
  {
   "cell_type": "code",
   "execution_count": 19,
   "id": "23e8d721",
   "metadata": {
    "execution": {
     "iopub.execute_input": "2022-05-09T19:37:18.963134Z",
     "iopub.status.busy": "2022-05-09T19:37:18.962846Z",
     "iopub.status.idle": "2022-05-09T19:37:18.979733Z",
     "shell.execute_reply": "2022-05-09T19:37:18.979114Z"
    },
    "papermill": {
     "duration": 0.044934,
     "end_time": "2022-05-09T19:37:18.981698",
     "exception": false,
     "start_time": "2022-05-09T19:37:18.936764",
     "status": "completed"
    },
    "tags": []
   },
   "outputs": [
    {
     "data": {
      "text/html": [
       "<div>\n",
       "<style scoped>\n",
       "    .dataframe tbody tr th:only-of-type {\n",
       "        vertical-align: middle;\n",
       "    }\n",
       "\n",
       "    .dataframe tbody tr th {\n",
       "        vertical-align: top;\n",
       "    }\n",
       "\n",
       "    .dataframe thead th {\n",
       "        text-align: right;\n",
       "    }\n",
       "</style>\n",
       "<table border=\"1\" class=\"dataframe\">\n",
       "  <thead>\n",
       "    <tr style=\"text-align: right;\">\n",
       "      <th></th>\n",
       "      <th>PassengerId</th>\n",
       "      <th>Survived</th>\n",
       "    </tr>\n",
       "  </thead>\n",
       "  <tbody>\n",
       "    <tr>\n",
       "      <th>0</th>\n",
       "      <td>892</td>\n",
       "      <td>0</td>\n",
       "    </tr>\n",
       "    <tr>\n",
       "      <th>1</th>\n",
       "      <td>893</td>\n",
       "      <td>1</td>\n",
       "    </tr>\n",
       "    <tr>\n",
       "      <th>2</th>\n",
       "      <td>894</td>\n",
       "      <td>0</td>\n",
       "    </tr>\n",
       "    <tr>\n",
       "      <th>3</th>\n",
       "      <td>895</td>\n",
       "      <td>0</td>\n",
       "    </tr>\n",
       "    <tr>\n",
       "      <th>4</th>\n",
       "      <td>896</td>\n",
       "      <td>1</td>\n",
       "    </tr>\n",
       "    <tr>\n",
       "      <th>...</th>\n",
       "      <td>...</td>\n",
       "      <td>...</td>\n",
       "    </tr>\n",
       "    <tr>\n",
       "      <th>413</th>\n",
       "      <td>1305</td>\n",
       "      <td>0</td>\n",
       "    </tr>\n",
       "    <tr>\n",
       "      <th>414</th>\n",
       "      <td>1306</td>\n",
       "      <td>1</td>\n",
       "    </tr>\n",
       "    <tr>\n",
       "      <th>415</th>\n",
       "      <td>1307</td>\n",
       "      <td>0</td>\n",
       "    </tr>\n",
       "    <tr>\n",
       "      <th>416</th>\n",
       "      <td>1308</td>\n",
       "      <td>0</td>\n",
       "    </tr>\n",
       "    <tr>\n",
       "      <th>417</th>\n",
       "      <td>1309</td>\n",
       "      <td>0</td>\n",
       "    </tr>\n",
       "  </tbody>\n",
       "</table>\n",
       "<p>418 rows × 2 columns</p>\n",
       "</div>"
      ],
      "text/plain": [
       "     PassengerId  Survived\n",
       "0            892         0\n",
       "1            893         1\n",
       "2            894         0\n",
       "3            895         0\n",
       "4            896         1\n",
       "..           ...       ...\n",
       "413         1305         0\n",
       "414         1306         1\n",
       "415         1307         0\n",
       "416         1308         0\n",
       "417         1309         0\n",
       "\n",
       "[418 rows x 2 columns]"
      ]
     },
     "execution_count": 19,
     "metadata": {},
     "output_type": "execute_result"
    }
   ],
   "source": [
    "pd.read_csv(\"../input/titanic/gender_submission.csv\")"
   ]
  },
  {
   "cell_type": "code",
   "execution_count": 20,
   "id": "3cf7554c",
   "metadata": {
    "execution": {
     "iopub.execute_input": "2022-05-09T19:37:19.033766Z",
     "iopub.status.busy": "2022-05-09T19:37:19.033466Z",
     "iopub.status.idle": "2022-05-09T19:37:19.257325Z",
     "shell.execute_reply": "2022-05-09T19:37:19.256271Z"
    },
    "papermill": {
     "duration": 0.252838,
     "end_time": "2022-05-09T19:37:19.259912",
     "exception": false,
     "start_time": "2022-05-09T19:37:19.007074",
     "status": "completed"
    },
    "tags": []
   },
   "outputs": [],
   "source": [
    "from sklearn.ensemble import RandomForestClassifier\n",
    "\n",
    "y = train_data[\"Survived\"]\n",
    "\n",
    "features = [\"Pclass\", \"Sex\", \"SibSp\", \"Parch\"]\n",
    "X = pd.get_dummies(train_data[features])\n",
    "X_test = pd.get_dummies(test_data[features])\n",
    "\n",
    "model = RandomForestClassifier(n_estimators=100, max_depth=3, random_state=2)\n",
    "model.fit(X, y)\n",
    "predictions = model.predict(X_test)\n",
    "\n",
    "submission = pd.read_csv(\"../input/titanic/gender_submission.csv\")\n",
    "submission['Survived'] = survived\n",
    "submission.to_csv('submission_titanic.csv', index=False)"
   ]
  },
  {
   "cell_type": "code",
   "execution_count": null,
   "id": "939d9f29",
   "metadata": {
    "papermill": {
     "duration": 0.025473,
     "end_time": "2022-05-09T19:37:19.312636",
     "exception": false,
     "start_time": "2022-05-09T19:37:19.287163",
     "status": "completed"
    },
    "tags": []
   },
   "outputs": [],
   "source": []
  }
 ],
 "metadata": {
  "kernelspec": {
   "display_name": "Python 3",
   "language": "python",
   "name": "python3"
  },
  "language_info": {
   "codemirror_mode": {
    "name": "ipython",
    "version": 3
   },
   "file_extension": ".py",
   "mimetype": "text/x-python",
   "name": "python",
   "nbconvert_exporter": "python",
   "pygments_lexer": "ipython3",
   "version": "3.7.12"
  },
  "papermill": {
   "default_parameters": {},
   "duration": 16.780784,
   "end_time": "2022-05-09T19:37:20.059216",
   "environment_variables": {},
   "exception": null,
   "input_path": "__notebook__.ipynb",
   "output_path": "__notebook__.ipynb",
   "parameters": {},
   "start_time": "2022-05-09T19:37:03.278432",
   "version": "2.3.4"
  }
 },
 "nbformat": 4,
 "nbformat_minor": 5
}
