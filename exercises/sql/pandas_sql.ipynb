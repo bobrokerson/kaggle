{
 "cells": [
  {
   "cell_type": "code",
   "execution_count": 140,
   "metadata": {},
   "outputs": [],
   "source": [
    "import pandas as pd\n",
    "from pandasql import sqldf\n",
    "import numpy as np"
   ]
  },
  {
   "cell_type": "code",
   "execution_count": 141,
   "metadata": {},
   "outputs": [],
   "source": [
    "# В таблице user_actions сохраняются действия покупателей в интернет магазине, структура таблицы\n",
    "\n",
    "# user_id    - id пользователя\n",
    "# product_id - id товара\n",
    "# action     - действие, просмотр товара, сохранение в корзину, покупка\n",
    "# time       - время совершения события\n",
    "# date       - дата события\n",
    "\n",
    "# Для каждого дня рассчитайте, какой процент просмотров товаров завершился покупкой"
   ]
  },
  {
   "cell_type": "code",
   "execution_count": 224,
   "metadata": {},
   "outputs": [],
   "source": [
    "all_user_ids = np.arange(1, 1001)\n",
    "all_product_ids = np.arange(1, 101)"
   ]
  },
  {
   "cell_type": "code",
   "execution_count": 225,
   "metadata": {},
   "outputs": [],
   "source": [
    "n = 10000"
   ]
  },
  {
   "cell_type": "code",
   "execution_count": null,
   "metadata": {},
   "outputs": [],
   "source": []
  },
  {
   "cell_type": "code",
   "execution_count": 205,
   "metadata": {},
   "outputs": [],
   "source": [
    "user_ids    = np.random.choice(all_user_ids, n)\n",
    "product_ids = np.random.choice(all_product_ids, n)"
   ]
  },
  {
   "cell_type": "code",
   "execution_count": 208,
   "metadata": {},
   "outputs": [],
   "source": [
    "start_date = pd.to_datetime('2022-01-01')"
   ]
  },
  {
   "cell_type": "code",
   "execution_count": 209,
   "metadata": {},
   "outputs": [],
   "source": [
    "times = pd.date_range(start_date, periods=n, freq='1min')"
   ]
  },
  {
   "cell_type": "code",
   "execution_count": 211,
   "metadata": {},
   "outputs": [],
   "source": [
    "user_actions = pd.DataFrame({'user_id': user_ids, \n",
    "                             'product_id': product_ids, \n",
    "                             'time': times})"
   ]
  },
  {
   "cell_type": "code",
   "execution_count": 212,
   "metadata": {},
   "outputs": [],
   "source": [
    "user_actions['action'] = 'view'"
   ]
  },
  {
   "cell_type": "code",
   "execution_count": 213,
   "metadata": {},
   "outputs": [
    {
     "data": {
      "text/html": [
       "<div>\n",
       "<style scoped>\n",
       "    .dataframe tbody tr th:only-of-type {\n",
       "        vertical-align: middle;\n",
       "    }\n",
       "\n",
       "    .dataframe tbody tr th {\n",
       "        vertical-align: top;\n",
       "    }\n",
       "\n",
       "    .dataframe thead th {\n",
       "        text-align: right;\n",
       "    }\n",
       "</style>\n",
       "<table border=\"1\" class=\"dataframe\">\n",
       "  <thead>\n",
       "    <tr style=\"text-align: right;\">\n",
       "      <th></th>\n",
       "      <th>user_id</th>\n",
       "      <th>product_id</th>\n",
       "      <th>time</th>\n",
       "      <th>action</th>\n",
       "    </tr>\n",
       "  </thead>\n",
       "  <tbody>\n",
       "    <tr>\n",
       "      <th>0</th>\n",
       "      <td>928</td>\n",
       "      <td>17</td>\n",
       "      <td>2022-01-01 00:00:00</td>\n",
       "      <td>view</td>\n",
       "    </tr>\n",
       "    <tr>\n",
       "      <th>1</th>\n",
       "      <td>839</td>\n",
       "      <td>10</td>\n",
       "      <td>2022-01-01 00:01:00</td>\n",
       "      <td>view</td>\n",
       "    </tr>\n",
       "    <tr>\n",
       "      <th>2</th>\n",
       "      <td>32</td>\n",
       "      <td>53</td>\n",
       "      <td>2022-01-01 00:02:00</td>\n",
       "      <td>view</td>\n",
       "    </tr>\n",
       "    <tr>\n",
       "      <th>3</th>\n",
       "      <td>832</td>\n",
       "      <td>68</td>\n",
       "      <td>2022-01-01 00:03:00</td>\n",
       "      <td>view</td>\n",
       "    </tr>\n",
       "    <tr>\n",
       "      <th>4</th>\n",
       "      <td>107</td>\n",
       "      <td>6</td>\n",
       "      <td>2022-01-01 00:04:00</td>\n",
       "      <td>view</td>\n",
       "    </tr>\n",
       "  </tbody>\n",
       "</table>\n",
       "</div>"
      ],
      "text/plain": [
       "   user_id  product_id                time action\n",
       "0      928          17 2022-01-01 00:00:00   view\n",
       "1      839          10 2022-01-01 00:01:00   view\n",
       "2       32          53 2022-01-01 00:02:00   view\n",
       "3      832          68 2022-01-01 00:03:00   view\n",
       "4      107           6 2022-01-01 00:04:00   view"
      ]
     },
     "execution_count": 213,
     "metadata": {},
     "output_type": "execute_result"
    }
   ],
   "source": [
    "user_actions.head()"
   ]
  },
  {
   "cell_type": "code",
   "execution_count": null,
   "metadata": {},
   "outputs": [],
   "source": []
  },
  {
   "cell_type": "code",
   "execution_count": 214,
   "metadata": {},
   "outputs": [],
   "source": [
    "def generate_funel_actions(user_id, product_id, time):\n",
    "    to_cart = 0.2\n",
    "    to_purchase = 0.4\n",
    "    \n",
    "    df = pd.DataFrame()\n",
    "    \n",
    "    if np.random.binomial(1, to_cart, 1)[0]:\n",
    "        df = pd.DataFrame({\n",
    "                           'user_id'   : user_id, \n",
    "                           'product_id': product_id, \n",
    "                           'time'      : time + pd.Timedelta(5, unit='s'), \n",
    "                           'action'    : 'add to cart'}, index=[0])\n",
    "        \n",
    "        if np.random.binomial(1, to_purchase, 1)[0]:\n",
    "            df_purchase = pd.DataFrame({\n",
    "                           'user_id'   : user_id, \n",
    "                           'product_id': product_id, \n",
    "                           'time'      : time + pd.Timedelta(10, unit='s'), \n",
    "                           'action'    : 'purchase'}, index=[0])\n",
    "    \n",
    "            df = df.append(df_purchase)\n",
    "    return df"
   ]
  },
  {
   "cell_type": "code",
   "execution_count": 216,
   "metadata": {},
   "outputs": [],
   "source": [
    "to_cart_df = pd.DataFrame()"
   ]
  },
  {
   "cell_type": "code",
   "execution_count": 217,
   "metadata": {},
   "outputs": [],
   "source": [
    "for index, row in user_actions.iterrows():\n",
    "    user_df = generate_funel_actions(row['user_id'], row['product_id'], row['time'])\n",
    "    to_cart_df = to_cart_df.append(user_df)\n",
    "    "
   ]
  },
  {
   "cell_type": "code",
   "execution_count": null,
   "metadata": {},
   "outputs": [],
   "source": []
  },
  {
   "cell_type": "code",
   "execution_count": 219,
   "metadata": {},
   "outputs": [],
   "source": [
    "user_actions = user_actions.append(to_cart_df)\n",
    "user_actions = user_actions.sort_values('time')"
   ]
  },
  {
   "cell_type": "code",
   "execution_count": 220,
   "metadata": {},
   "outputs": [],
   "source": [
    "user_actions['date'] = user_actions.time.dt.date"
   ]
  },
  {
   "cell_type": "code",
   "execution_count": 221,
   "metadata": {},
   "outputs": [
    {
     "data": {
      "text/html": [
       "<div>\n",
       "<style scoped>\n",
       "    .dataframe tbody tr th:only-of-type {\n",
       "        vertical-align: middle;\n",
       "    }\n",
       "\n",
       "    .dataframe tbody tr th {\n",
       "        vertical-align: top;\n",
       "    }\n",
       "\n",
       "    .dataframe thead th {\n",
       "        text-align: right;\n",
       "    }\n",
       "</style>\n",
       "<table border=\"1\" class=\"dataframe\">\n",
       "  <thead>\n",
       "    <tr style=\"text-align: right;\">\n",
       "      <th></th>\n",
       "      <th>user_id</th>\n",
       "      <th>product_id</th>\n",
       "      <th>time</th>\n",
       "      <th>action</th>\n",
       "      <th>date</th>\n",
       "    </tr>\n",
       "  </thead>\n",
       "  <tbody>\n",
       "    <tr>\n",
       "      <th>0</th>\n",
       "      <td>928</td>\n",
       "      <td>17</td>\n",
       "      <td>2022-01-01 00:00:00</td>\n",
       "      <td>view</td>\n",
       "      <td>2022-01-01</td>\n",
       "    </tr>\n",
       "    <tr>\n",
       "      <th>1</th>\n",
       "      <td>839</td>\n",
       "      <td>10</td>\n",
       "      <td>2022-01-01 00:01:00</td>\n",
       "      <td>view</td>\n",
       "      <td>2022-01-01</td>\n",
       "    </tr>\n",
       "    <tr>\n",
       "      <th>2</th>\n",
       "      <td>32</td>\n",
       "      <td>53</td>\n",
       "      <td>2022-01-01 00:02:00</td>\n",
       "      <td>view</td>\n",
       "      <td>2022-01-01</td>\n",
       "    </tr>\n",
       "    <tr>\n",
       "      <th>3</th>\n",
       "      <td>832</td>\n",
       "      <td>68</td>\n",
       "      <td>2022-01-01 00:03:00</td>\n",
       "      <td>view</td>\n",
       "      <td>2022-01-01</td>\n",
       "    </tr>\n",
       "    <tr>\n",
       "      <th>4</th>\n",
       "      <td>107</td>\n",
       "      <td>6</td>\n",
       "      <td>2022-01-01 00:04:00</td>\n",
       "      <td>view</td>\n",
       "      <td>2022-01-01</td>\n",
       "    </tr>\n",
       "  </tbody>\n",
       "</table>\n",
       "</div>"
      ],
      "text/plain": [
       "   user_id  product_id                time action        date\n",
       "0      928          17 2022-01-01 00:00:00   view  2022-01-01\n",
       "1      839          10 2022-01-01 00:01:00   view  2022-01-01\n",
       "2       32          53 2022-01-01 00:02:00   view  2022-01-01\n",
       "3      832          68 2022-01-01 00:03:00   view  2022-01-01\n",
       "4      107           6 2022-01-01 00:04:00   view  2022-01-01"
      ]
     },
     "execution_count": 221,
     "metadata": {},
     "output_type": "execute_result"
    }
   ],
   "source": [
    "user_actions.head()"
   ]
  },
  {
   "cell_type": "code",
   "execution_count": null,
   "metadata": {},
   "outputs": [],
   "source": []
  },
  {
   "cell_type": "code",
   "execution_count": 201,
   "metadata": {},
   "outputs": [],
   "source": [
    "q = \"\"\"SELECT date, \n",
    "              views, \n",
    "              carts, \n",
    "              purchases, \n",
    "              100 * purchases / views as purchase_percantage \n",
    "       FROM (\n",
    "           SELECT date, \n",
    "            count(case when action = 'view'        then 1 else NULL end) as views, \n",
    "            count(case when action = 'add to cart' then 1 else NULL end) as carts, \n",
    "            count(case when action = 'purchase'    then 1 else NULL end) as purchases \n",
    "           FROM user_actions \n",
    "           GROUP BY date);\"\"\"\n"
   ]
  },
  {
   "cell_type": "code",
   "execution_count": 223,
   "metadata": {},
   "outputs": [
    {
     "data": {
      "text/html": [
       "<div>\n",
       "<style scoped>\n",
       "    .dataframe tbody tr th:only-of-type {\n",
       "        vertical-align: middle;\n",
       "    }\n",
       "\n",
       "    .dataframe tbody tr th {\n",
       "        vertical-align: top;\n",
       "    }\n",
       "\n",
       "    .dataframe thead th {\n",
       "        text-align: right;\n",
       "    }\n",
       "</style>\n",
       "<table border=\"1\" class=\"dataframe\">\n",
       "  <thead>\n",
       "    <tr style=\"text-align: right;\">\n",
       "      <th></th>\n",
       "      <th>date</th>\n",
       "      <th>views</th>\n",
       "      <th>carts</th>\n",
       "      <th>purchases</th>\n",
       "      <th>purchase_percantage</th>\n",
       "    </tr>\n",
       "  </thead>\n",
       "  <tbody>\n",
       "    <tr>\n",
       "      <th>0</th>\n",
       "      <td>2022-01-01</td>\n",
       "      <td>1440</td>\n",
       "      <td>287</td>\n",
       "      <td>133</td>\n",
       "      <td>9</td>\n",
       "    </tr>\n",
       "    <tr>\n",
       "      <th>1</th>\n",
       "      <td>2022-01-02</td>\n",
       "      <td>1440</td>\n",
       "      <td>287</td>\n",
       "      <td>127</td>\n",
       "      <td>8</td>\n",
       "    </tr>\n",
       "    <tr>\n",
       "      <th>2</th>\n",
       "      <td>2022-01-03</td>\n",
       "      <td>1440</td>\n",
       "      <td>265</td>\n",
       "      <td>105</td>\n",
       "      <td>7</td>\n",
       "    </tr>\n",
       "    <tr>\n",
       "      <th>3</th>\n",
       "      <td>2022-01-04</td>\n",
       "      <td>1440</td>\n",
       "      <td>303</td>\n",
       "      <td>133</td>\n",
       "      <td>9</td>\n",
       "    </tr>\n",
       "    <tr>\n",
       "      <th>4</th>\n",
       "      <td>2022-01-05</td>\n",
       "      <td>1440</td>\n",
       "      <td>285</td>\n",
       "      <td>105</td>\n",
       "      <td>7</td>\n",
       "    </tr>\n",
       "    <tr>\n",
       "      <th>5</th>\n",
       "      <td>2022-01-06</td>\n",
       "      <td>1440</td>\n",
       "      <td>262</td>\n",
       "      <td>111</td>\n",
       "      <td>7</td>\n",
       "    </tr>\n",
       "    <tr>\n",
       "      <th>6</th>\n",
       "      <td>2022-01-07</td>\n",
       "      <td>1360</td>\n",
       "      <td>248</td>\n",
       "      <td>106</td>\n",
       "      <td>7</td>\n",
       "    </tr>\n",
       "  </tbody>\n",
       "</table>\n",
       "</div>"
      ],
      "text/plain": [
       "         date  views  carts  purchases  purchase_percantage\n",
       "0  2022-01-01   1440    287        133                    9\n",
       "1  2022-01-02   1440    287        127                    8\n",
       "2  2022-01-03   1440    265        105                    7\n",
       "3  2022-01-04   1440    303        133                    9\n",
       "4  2022-01-05   1440    285        105                    7\n",
       "5  2022-01-06   1440    262        111                    7\n",
       "6  2022-01-07   1360    248        106                    7"
      ]
     },
     "execution_count": 223,
     "metadata": {},
     "output_type": "execute_result"
    }
   ],
   "source": [
    "sqldf(q)"
   ]
  },
  {
   "cell_type": "code",
   "execution_count": null,
   "metadata": {},
   "outputs": [],
   "source": []
  },
  {
   "cell_type": "code",
   "execution_count": null,
   "metadata": {},
   "outputs": [],
   "source": []
  }
 ],
 "metadata": {
  "kernelspec": {
   "display_name": "Python 3",
   "language": "python",
   "name": "python3"
  },
  "language_info": {
   "codemirror_mode": {
    "name": "ipython",
    "version": 3
   },
   "file_extension": ".py",
   "mimetype": "text/x-python",
   "name": "python",
   "nbconvert_exporter": "python",
   "pygments_lexer": "ipython3",
   "version": "3.8.5"
  }
 },
 "nbformat": 4,
 "nbformat_minor": 4
}
